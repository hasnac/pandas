{
 "cells": [
  {
   "cell_type": "code",
   "execution_count": 10,
   "id": "3e41f603-4fcc-40ed-9a3f-7177ee0bff79",
   "metadata": {},
   "outputs": [
    {
     "name": "stdout",
     "output_type": "stream",
     "text": [
      "            Negara       Ibu Kota    Benua  Luas  Populasi\n",
      "0        Indonesia        Jakarta     Asia  1905       264\n",
      "1           Jepang          Tokyo     Asia   377       143\n",
      "2            India      New Delhi     Asia  3287      1252\n",
      "3            China        Beijing     Asia  9597      1357\n",
      "4  Amerika Serikat  Washington DC  Amerika  9834       329\n",
      "           Luas    Populasi\n",
      "Benua                      \n",
      "Afrika   1652.0  121.500000\n",
      "Amerika  6771.0  221.666667\n",
      "Asia     6452.8  632.400000\n",
      "Eropa     299.5   74.500000\n",
      "                Luas    Populasi\n",
      "Benua                           \n",
      "Afrika   1030.961687  111.015765\n",
      "Amerika  4214.899406  102.001634\n",
      "Asia     6906.996395  616.596546\n",
      "Eropa      81.317280   12.020815\n"
     ]
    }
   ],
   "source": [
    "import pandas as pd\n",
    "df = pd.read_csv(\"Negara.csv\")\n",
    "mean = df.groupby(['Benua']).mean(numeric_only=True)\n",
    "std = df.groupby(['Benua']).std(numeric_only=True)\n",
    "print(df.head())\n",
    "print(mean)\n",
    "print(std)"
   ]
  },
  {
   "cell_type": "code",
   "execution_count": 12,
   "id": "490c6f73-5601-4ade-978d-949ebd2e38b0",
   "metadata": {},
   "outputs": [
    {
     "name": "stdout",
     "output_type": "stream",
     "text": [
      "            Negara       Ibu Kota    Benua  Luas  Populasi\n",
      "0        Indonesia        Jakarta     Asia  1905       264\n",
      "1           Jepang          Tokyo     Asia   377       143\n",
      "2            India      New Delhi     Asia  3287      1252\n",
      "3            China        Beijing     Asia  9597      1357\n",
      "4  Amerika Serikat  Washington DC  Amerika  9834       329\n",
      "           Luas    Populasi\n",
      "Benua                      \n",
      "Afrika   1652.0  121.500000\n",
      "Amerika  6771.0  221.666667\n",
      "Asia     6452.8  632.400000\n",
      "Eropa     299.5   74.500000\n",
      "                Luas    Populasi\n",
      "Benua                           \n",
      "Afrika   1030.961687  111.015765\n",
      "Amerika  4214.899406  102.001634\n",
      "Asia     6906.996395  616.596546\n",
      "Eropa      81.317280   12.020815\n"
     ]
    }
   ],
   "source": [
    "\n",
    "\n",
    "\n",
    "\n",
    "\n",
    "\n",
    "\n",
    "\n",
    "\n",
    "\n",
    "\n",
    "\n",
    "\n",
    "\n",
    "\n",
    "\n",
    "\n",
    "\n",
    "\n",
    "\n",
    "\n",
    "\n",
    "\n",
    "\n",
    "\n",
    "\n",
    "\n",
    "\n",
    "\n",
    "\n",
    "\n",
    "import pandas as pd\n",
    "df = pd.read_csv(\"Negara.csv\")\n",
    "mean = df.groupby(['Benua']).mean(numeric_only=True)\n",
    "std = df.groupby(['Benua']).std(numeric_only=True)\n",
    "print(df.head())\n",
    "print(mean)\n",
    "print(std)"
   ]
  },
  {
   "cell_type": "code",
   "execution_count": 22,
   "id": "7b4857f5-783a-4740-b919-42583b655f6d",
   "metadata": {},
   "outputs": [
    {
     "name": "stdout",
     "output_type": "stream",
     "text": [
      "            Negara       Ibu Kota    Benua  Luas  Populasi\n",
      "0        Indonesia        Jakarta     Asia  1905       264\n",
      "1           Jepang          Tokyo     Asia   377       143\n",
      "2            India      New Delhi     Asia  3287      1252\n",
      "3            China        Beijing     Asia  9597      1357\n",
      "4  Amerika Serikat  Washington DC  Amerika  9834       329\n",
      "           Luas    Populasi\n",
      "Benua                      \n",
      "Afrika   1652.0  121.500000\n",
      "Amerika  6771.0  221.666667\n",
      "Asia     6452.8  632.400000\n",
      "Eropa     299.5   74.500000\n",
      "                Luas    Populasi\n",
      "Benua                           \n",
      "Afrika   1030.961687  111.015765\n",
      "Amerika  4214.899406  102.001634\n",
      "Asia     6906.996395  616.596546\n",
      "Eropa      81.317280   12.020815\n"
     ]
    }
   ],
   "source": [
    "\n",
    "\n",
    "import pandas as pd\n",
    "df = pd.read_csv(\"Rafli.csv\")\n",
    "mean = df.groupby(['Benua']).mean(numeric_only=True)\n",
    "std = df.groupby(['Benua']).std(numeric_only=True)\n",
    "print(df.head())\n",
    "print(mean)\n",
    "print(std)\n",
    "\n",
    "\n",
    "\n",
    "\n"
   ]
  },
  {
   "cell_type": "code",
   "execution_count": null,
   "id": "9ac58d8b-0138-4b28-bd8c-c6bbb35f2a4d",
   "metadata": {},
   "outputs": [],
   "source": []
  }
 ],
 "metadata": {
  "kernelspec": {
   "display_name": "Python 3 (ipykernel)",
   "language": "python",
   "name": "python3"
  },
  "language_info": {
   "codemirror_mode": {
    "name": "ipython",
    "version": 3
   },
   "file_extension": ".py",
   "mimetype": "text/x-python",
   "name": "python",
   "nbconvert_exporter": "python",
   "pygments_lexer": "ipython3",
   "version": "3.12.4"
  }
 },
 "nbformat": 4,
 "nbformat_minor": 5
}
